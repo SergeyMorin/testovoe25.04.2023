{
  "nbformat": 4,
  "nbformat_minor": 0,
  "metadata": {
    "colab": {
      "provenance": [],
      "authorship_tag": "ABX9TyMYfSrJ9tK/VA5VqeVEfDDP",
      "include_colab_link": true
    },
    "kernelspec": {
      "name": "python3",
      "display_name": "Python 3"
    },
    "language_info": {
      "name": "python"
    }
  },
  "cells": [
    {
      "cell_type": "markdown",
      "metadata": {
        "id": "view-in-github",
        "colab_type": "text"
      },
      "source": [
        "<a href=\"https://colab.research.google.com/github/SergeyMorin/testovoe25.04.2023/blob/main/test2.ipynb\" target=\"_parent\"><img src=\"https://colab.research.google.com/assets/colab-badge.svg\" alt=\"Open In Colab\"/></a>"
      ]
    },
    {
      "cell_type": "code",
      "execution_count": 1,
      "metadata": {
        "colab": {
          "base_uri": "https://localhost:8080/"
        },
        "id": "8Vf5VoRkPH6U",
        "outputId": "cb35cc15-6e10-4c7a-c4be-7d17e4a824f4"
      },
      "outputs": [
        {
          "output_type": "stream",
          "name": "stdout",
          "text": [
            "200\n",
            "(0, 3)\n"
          ]
        }
      ],
      "source": [
        "from bs4 import BeautifulSoup as bs\n",
        "import pandas as pd\n",
        "import requests\n",
        "\n",
        "FILE_NAME = \"pars.csv\"\n",
        "r = requests.get('https://www.perekrestok.ru/cat/c/27/zavtrak')\n",
        "print(r.status_code)\n",
        "perek_soup = bs(r.text, 'html.parser')\n",
        "\n",
        "result_list = {'category': [],'title': [], 'price': []}\n",
        "\n",
        "category_names = perek_soup.find_all('h2', attrs={\"class\":\"catalog-content-group__title\"})\n",
        "for cat in range(len(category_names)):\n",
        "    parent_category = category_names[cat].find_parent('div')\n",
        "    item_category_names = parent_category.find_all('div', class_='product-card-title__wrapper')\n",
        "    for i in range(len(item_category_names)):\n",
        "        sub_names = item_category_names[i].find_next_sibling('div', class_='product-card__control')\n",
        "        price = sub_names.find('div', class_='price-new')\n",
        "        if price != None:\n",
        "            result_list['category'].append(category_names[cat].text)\n",
        "            result_list['title'].append(item_category_names[i].text)\n",
        "            result_list['price'].append(price.text)\n",
        "            # print(category_names[cat].text ,item_category_names[i].text, price.text,)\n",
        "        else:\n",
        "            continue\n",
        "\n",
        "df = pd.DataFrame(data=result_list)\n",
        "df.to_csv(FILE_NAME)\n",
        "\n",
        "print(df.shape)"
      ]
    }
  ]
}