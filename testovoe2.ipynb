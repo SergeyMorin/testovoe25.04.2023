{
  "nbformat": 4,
  "nbformat_minor": 0,
  "metadata": {
    "colab": {
      "provenance": [],
      "authorship_tag": "ABX9TyPmCrBJFE6tetefTT42gOb5",
      "include_colab_link": true
    },
    "kernelspec": {
      "name": "python3",
      "display_name": "Python 3"
    },
    "language_info": {
      "name": "python"
    }
  },
  "cells": [
    {
      "cell_type": "markdown",
      "metadata": {
        "id": "view-in-github",
        "colab_type": "text"
      },
      "source": [
        "<a href=\"https://colab.research.google.com/github/SergeyMorin/testovoe25.04.2023/blob/main/testovoe2.ipynb\" target=\"_parent\"><img src=\"https://colab.research.google.com/assets/colab-badge.svg\" alt=\"Open In Colab\"/></a>"
      ]
    },
    {
      "cell_type": "code",
      "execution_count": 4,
      "metadata": {
        "colab": {
          "base_uri": "https://localhost:8080/"
        },
        "id": "bsf1bLwPlexP",
        "outputId": "1bd6dcbc-9477-461d-be53-ecbc5387e468"
      },
      "outputs": [
        {
          "output_type": "stream",
          "name": "stdout",
          "text": [
            "200\n",
            "0\n"
          ]
        }
      ],
      "source": [
        "from bs4 import BeautifulSoup as bs\n",
        "import pandas as pd\n",
        "import requests\n",
        "\n",
        "FILE_NAME = \"pars.csv\"\n",
        "r = requests.get('https://www.perekrestok.ru/cat/c/27/zavtrak')\n",
        "print(r.status_code)\n",
        "perek_soup = bs(r.text, 'html.parser')\n",
        "result_list = {'category': [],'title': [], 'price': []}\n",
        "\n",
        "category_names = perek_soup.find_all('h2', attrs={\"class\":\"catalog-content-group__title\"})\n",
        "print(len(category_names)) # категория под индексом 3 не имеет одну цену\n",
        "for el in range(len(category_names)):\n",
        "    if el == 3:\n",
        "        continue\n",
        "    patent_category = category_names[el].find_parent('div')\n",
        "    item_category_names = patent_category.find_all('div', class_='product-card__title')\n",
        "    item_category_prices = patent_category.find_all('div', class_='price-new')\n",
        "    for item in range(len(item_category_names)):\n",
        "        result_list['category'].append(category_names[el].text)\n",
        "        result_list['title'].append(item_category_names[item].text)\n",
        "        result_list['price'].append(item_category_prices[item].text)\n",
        "\n",
        "df = pd.DataFrame(data=result_list)\n",
        "df.to_csv(FILE_NAME)"
      ]
    },
    {
      "cell_type": "code",
      "source": [
        "d = pd.read_csv('pars.csv')\n",
        "print(d.shape)"
      ],
      "metadata": {
        "colab": {
          "base_uri": "https://localhost:8080/"
        },
        "id": "t2Hg_NurlqOL",
        "outputId": "2c4c8ac5-77b5-43b5-bb44-ea4b7ee20f00"
      },
      "execution_count": 6,
      "outputs": [
        {
          "output_type": "stream",
          "name": "stdout",
          "text": [
            "(0, 4)\n"
          ]
        }
      ]
    }
  ]
}